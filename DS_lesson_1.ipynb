{
 "cells": [
  {
   "cell_type": "markdown",
   "metadata": {},
   "source": [
    "Подключаем бибилотеку Numpy"
   ]
  },
  {
   "cell_type": "code",
   "execution_count": 1,
   "metadata": {},
   "outputs": [],
   "source": [
    "import numpy as np"
   ]
  },
  {
   "cell_type": "markdown",
   "metadata": {},
   "source": [
    "№1 Создаем массив numpy a размерности (5, 2) и вычисляем среднее значение для каждого столбца(признака). Полученные значения сохраняем в массив mean_a"
   ]
  },
  {
   "cell_type": "code",
   "execution_count": 2,
   "metadata": {},
   "outputs": [
    {
     "name": "stdout",
     "output_type": "stream",
     "text": [
      "в матрице\n",
      "[[ 1  6]\n",
      " [ 2  8]\n",
      " [ 3 11]\n",
      " [ 3 10]\n",
      " [ 1  7]]\n",
      "средние значения каждого признака равны [2.0, 8.4]\n"
     ]
    }
   ],
   "source": [
    "a = np.array([[1, 2, 3, 3, 1], [6, 8, 11, 10, 7]]).T\n",
    "mean_a = [np.mean(a[:, i]) for i in range(a.shape[1])]\n",
    "print(f'в матрице\\n{a}\\nсредние значения каждого признака равны {mean_a}')"
   ]
  },
  {
   "cell_type": "markdown",
   "metadata": {},
   "source": [
    "№2 Получаем центрированную матрицу путем вычитания из каждого признака соответствующее среднее значение"
   ]
  },
  {
   "cell_type": "code",
   "execution_count": 3,
   "metadata": {},
   "outputs": [
    {
     "name": "stdout",
     "output_type": "stream",
     "text": [
      "центрированная матрица\n",
      "[[-1.  -2.4]\n",
      " [ 0.  -0.4]\n",
      " [ 1.   2.6]\n",
      " [ 1.   1.6]\n",
      " [-1.  -1.4]]\n"
     ]
    }
   ],
   "source": [
    "a_centered = np.subtract(a, mean_a)\n",
    "print(f'центрированная матрица\\n{a_centered}')"
   ]
  },
  {
   "cell_type": "markdown",
   "metadata": {},
   "source": [
    "№3 Находим скалярное произведение массива a_centered и делим значение на N-1, где N - число наблюдений(строк). Полученное значение - это ковариация 2-х признаков массива a"
   ]
  },
  {
   "cell_type": "code",
   "execution_count": 4,
   "metadata": {},
   "outputs": [
    {
     "name": "stdout",
     "output_type": "stream",
     "text": [
      "значение ковариации равно 2.0\n"
     ]
    }
   ],
   "source": [
    "a_centered_sp = np.dot(a_centered[:,0], a_centered[:, 1])\n",
    "cov = a_centered_sp/(a.shape[0] - 1)\n",
    "print(f'значение ковариации равно {cov}')"
   ]
  },
  {
   "cell_type": "markdown",
   "metadata": {},
   "source": [
    "№4 Сравниваем вычисленную ковариацию с ковариацией, вычисленной функцией np.cov(). Функция возвращает матрицу (2, 2). Искомое значение находится в первой строке второго столбца"
   ]
  },
  {
   "cell_type": "code",
   "execution_count": 5,
   "metadata": {},
   "outputs": [
    {
     "name": "stdout",
     "output_type": "stream",
     "text": [
      "cov = 2.0 = 2.0\n"
     ]
    }
   ],
   "source": [
    "print(f'cov = {cov} = {np.cov(a.T)[0, 1]}')"
   ]
  }
 ],
 "metadata": {
  "kernelspec": {
   "display_name": "Python 3",
   "language": "python",
   "name": "python3"
  },
  "language_info": {
   "codemirror_mode": {
    "name": "ipython",
    "version": 3
   },
   "file_extension": ".py",
   "mimetype": "text/x-python",
   "name": "python",
   "nbconvert_exporter": "python",
   "pygments_lexer": "ipython3",
   "version": "3.6.5"
  }
 },
 "nbformat": 4,
 "nbformat_minor": 2
}
